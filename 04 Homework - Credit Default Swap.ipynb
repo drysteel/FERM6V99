{
 "cells": [
  {
   "cell_type": "code",
   "execution_count": 1,
   "metadata": {},
   "outputs": [],
   "source": [
    "# -----------------------------------------------\n",
    "# Python 3\n",
    "# Predicting prices of credit default swaps (CDS)\n",
    "# -----------------------------------------------\n",
    "\n",
    "# -----------------------\n",
    "# General package import:\n",
    "# -----------------------\n",
    "import pandas as pd              # Data structure ana analysis tools "
   ]
  },
  {
   "cell_type": "code",
   "execution_count": 2,
   "metadata": {},
   "outputs": [],
   "source": [
    "# ---------------------------------\n",
    "# Retreive pre-downloaded datasets:\n",
    "# ---------------------------------\n",
    "# Import dataset for CDS\n",
    "cds = pd.read_stata(\"cds_spread5y_2001_2016.dta\")\n",
    "\n",
    "# Import dataset for csv information (CRSP)\n",
    "csv = pd.read_csv(\"Quarterly Merged CRSP-Compustat.csv\", low_memory = False)"
   ]
  },
  {
   "cell_type": "code",
   "execution_count": 3,
   "metadata": {},
   "outputs": [],
   "source": [
    "# -----------------------------------------\n",
    "# Classify CDS date/time to month and year:\n",
    "# -----------------------------------------\n",
    "# Separate date from CDS\n",
    "cds['Date'] = pd.to_datetime(cds['mdate'])\n",
    "\n",
    "# Classify months\n",
    "cds['Month'] = cds['Date'].dt.month\n",
    "\n",
    "# Classify years\n",
    "cds['Year'] = cds['Date'].dt.year"
   ]
  },
  {
   "cell_type": "code",
   "execution_count": 4,
   "metadata": {},
   "outputs": [
    {
     "name": "stderr",
     "output_type": "stream",
     "text": [
      "C:\\Users\\drysteel\\Anaconda3\\lib\\site-packages\\ipykernel_launcher.py:8: SettingWithCopyWarning: \n",
      "A value is trying to be set on a copy of a slice from a DataFrame\n",
      "\n",
      "See the caveats in the documentation: http://pandas.pydata.org/pandas-docs/stable/indexing.html#indexing-view-versus-copy\n",
      "  \n",
      "C:\\Users\\drysteel\\Anaconda3\\lib\\site-packages\\ipykernel_launcher.py:11: SettingWithCopyWarning: \n",
      "A value is trying to be set on a copy of a slice from a DataFrame\n",
      "\n",
      "See the caveats in the documentation: http://pandas.pydata.org/pandas-docs/stable/indexing.html#indexing-view-versus-copy\n",
      "  # This is added back by InteractiveShellApp.init_path()\n",
      "C:\\Users\\drysteel\\Anaconda3\\lib\\site-packages\\ipykernel_launcher.py:14: SettingWithCopyWarning: \n",
      "A value is trying to be set on a copy of a slice from a DataFrame\n",
      "\n",
      "See the caveats in the documentation: http://pandas.pydata.org/pandas-docs/stable/indexing.html#indexing-view-versus-copy\n",
      "  \n",
      "C:\\Users\\drysteel\\Anaconda3\\lib\\site-packages\\ipykernel_launcher.py:17: SettingWithCopyWarning: \n",
      "A value is trying to be set on a copy of a slice from a DataFrame\n",
      "\n",
      "See the caveats in the documentation: http://pandas.pydata.org/pandas-docs/stable/indexing.html#indexing-view-versus-copy\n"
     ]
    }
   ],
   "source": [
    "# ------------------------------------------------\n",
    "# Group months to quarters to match CDS with CRSP:\n",
    "# ------------------------------------------------\n",
    "# Set and divide based on number of months\n",
    "cds['Quarter'] = '4'\n",
    "\n",
    "# Above month 9 falls to Q4\n",
    "cds['Quarter'][cds['Month'] > 9] = '4'\n",
    "\n",
    "# Month 7 to 9 is Q3\n",
    "cds['Quarter'][(cds['Month'] > 6) & (cds['Month'] < 9)] = '3'\n",
    "\n",
    "# Month 4 to 6 is Q2\n",
    "cds['Quarter'][(cds['Month'] > 3) & (cds['Month'] < 6)] = '2'\n",
    "\n",
    "# Below month 4 falls to Q1\n",
    "cds['Quarter'][cds['Month'] < 3] = '1'"
   ]
  },
  {
   "cell_type": "code",
   "execution_count": 5,
   "metadata": {},
   "outputs": [],
   "source": [
    "# -------------------------------------------\n",
    "# Minor column conversion and naming changes:\n",
    "# -------------------------------------------\n",
    "# Convert selected columns to float to merge with CRSP\n",
    "cds['gvkey'] = cds['gvkey'].astype(float)\n",
    "cds['Quarter'] = cds['Quarter'].astype(float)\n",
    "cds['Year'] = cds['Year'].astype(float)\n",
    "\n",
    "# Change selected column names to match with CDS\n",
    "csv = csv.rename(columns = {'datadate':'mdate'})\n",
    "csv = csv.rename(columns = {'GVKEY':'gvkey'})"
   ]
  },
  {
   "cell_type": "code",
   "execution_count": 6,
   "metadata": {},
   "outputs": [],
   "source": [
    "# -----------------------------------------\n",
    "# Classify CDS date/time to month and year:\n",
    "# -----------------------------------------\n",
    "# Separate date from CRSP\n",
    "csv['Date'] = pd.to_datetime(csv['mdate'])\n",
    "\n",
    "# Classify months\n",
    "csv['Month'] = csv['Date'].dt.month\n",
    "\n",
    "# Classify years\n",
    "csv['Year'] = csv['Date'].dt.year"
   ]
  },
  {
   "cell_type": "code",
   "execution_count": 7,
   "metadata": {},
   "outputs": [
    {
     "name": "stderr",
     "output_type": "stream",
     "text": [
      "C:\\Users\\drysteel\\Anaconda3\\lib\\site-packages\\ipykernel_launcher.py:8: SettingWithCopyWarning: \n",
      "A value is trying to be set on a copy of a slice from a DataFrame\n",
      "\n",
      "See the caveats in the documentation: http://pandas.pydata.org/pandas-docs/stable/indexing.html#indexing-view-versus-copy\n",
      "  \n",
      "C:\\Users\\drysteel\\Anaconda3\\lib\\site-packages\\ipykernel_launcher.py:11: SettingWithCopyWarning: \n",
      "A value is trying to be set on a copy of a slice from a DataFrame\n",
      "\n",
      "See the caveats in the documentation: http://pandas.pydata.org/pandas-docs/stable/indexing.html#indexing-view-versus-copy\n",
      "  # This is added back by InteractiveShellApp.init_path()\n",
      "C:\\Users\\drysteel\\Anaconda3\\lib\\site-packages\\ipykernel_launcher.py:14: SettingWithCopyWarning: \n",
      "A value is trying to be set on a copy of a slice from a DataFrame\n",
      "\n",
      "See the caveats in the documentation: http://pandas.pydata.org/pandas-docs/stable/indexing.html#indexing-view-versus-copy\n",
      "  \n",
      "C:\\Users\\drysteel\\Anaconda3\\lib\\site-packages\\ipykernel_launcher.py:17: SettingWithCopyWarning: \n",
      "A value is trying to be set on a copy of a slice from a DataFrame\n",
      "\n",
      "See the caveats in the documentation: http://pandas.pydata.org/pandas-docs/stable/indexing.html#indexing-view-versus-copy\n"
     ]
    }
   ],
   "source": [
    "# ------------------------------------------------\n",
    "# Group months to quarters to match CRSP with CDS:\n",
    "# ------------------------------------------------\n",
    "# Set and divide based on number of months\n",
    "csv['Quarter'] = '4'\n",
    "\n",
    "# Above month 9 falls to Q4\n",
    "csv['Quarter'][csv['Month'] > 9] = '4'\n",
    "\n",
    "# Month 7 to 9 is Q3\n",
    "csv['Quarter'][(csv['Month'] > 6) & (csv['Month'] < 9)] = '3'\n",
    "\n",
    "# Month 4 to 6 is Q2\n",
    "csv['Quarter'][(csv['Month'] > 3) & (csv['Month'] < 6)] = '2'\n",
    "\n",
    "# Below month 4 falls to Q1\n",
    "csv['Quarter'][csv['Month'] < 3] = '1'"
   ]
  },
  {
   "cell_type": "code",
   "execution_count": 8,
   "metadata": {
    "scrolled": false
   },
   "outputs": [],
   "source": [
    "# -------------------------------------------\n",
    "# Minor column conversion and naming changes:\n",
    "# -------------------------------------------\n",
    "# Convert selected columns to float to merge with CDS\n",
    "csv['gvkey'] = csv['gvkey'].astype(float)\n",
    "csv['Quarter'] = csv['Quarter'].astype(float)\n",
    "csv['Year'] = csv['Year'].astype(float)"
   ]
  },
  {
   "cell_type": "code",
   "execution_count": 9,
   "metadata": {},
   "outputs": [],
   "source": [
    "# ------------------------------------------\n",
    "# Merge selected columns from both datasets:\n",
    "# ------------------------------------------ \n",
    "merdat = pd.merge(csv, cds, on = ['gvkey', 'Quarter', 'Year'])"
   ]
  }
 ],
 "metadata": {
  "kernelspec": {
   "display_name": "Python 3",
   "language": "python",
   "name": "python3"
  },
  "language_info": {
   "codemirror_mode": {
    "name": "ipython",
    "version": 3
   },
   "file_extension": ".py",
   "mimetype": "text/x-python",
   "name": "python",
   "nbconvert_exporter": "python",
   "pygments_lexer": "ipython3",
   "version": "3.6.7"
  }
 },
 "nbformat": 4,
 "nbformat_minor": 2
}
